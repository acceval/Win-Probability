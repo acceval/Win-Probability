{
 "cells": [
  {
   "cell_type": "code",
   "execution_count": 1,
   "metadata": {
    "ExecuteTime": {
     "end_time": "2021-08-23T01:46:31.119691Z",
     "start_time": "2021-08-23T01:46:30.270026Z"
    }
   },
   "outputs": [],
   "source": [
    "from sklearn import datasets\n",
    "import pandas as pd\n",
    "import seaborn as sns\n",
    "import matplotlib.pyplot as plt\n",
    "%matplotlib inline\n",
    "\n",
    "from scipy.optimize import minimize\n",
    "import re"
   ]
  },
  {
   "cell_type": "markdown",
   "metadata": {
    "ExecuteTime": {
     "end_time": "2021-08-20T04:39:26.606432Z",
     "start_time": "2021-08-20T04:39:26.600036Z"
    }
   },
   "source": [
    "# Data"
   ]
  },
  {
   "cell_type": "code",
   "execution_count": 2,
   "metadata": {
    "ExecuteTime": {
     "end_time": "2021-08-23T01:46:31.139798Z",
     "start_time": "2021-08-23T01:46:31.128575Z"
    }
   },
   "outputs": [
    {
     "data": {
      "text/html": [
       "<div>\n",
       "<style scoped>\n",
       "    .dataframe tbody tr th:only-of-type {\n",
       "        vertical-align: middle;\n",
       "    }\n",
       "\n",
       "    .dataframe tbody tr th {\n",
       "        vertical-align: top;\n",
       "    }\n",
       "\n",
       "    .dataframe thead th {\n",
       "        text-align: right;\n",
       "    }\n",
       "</style>\n",
       "<table border=\"1\" class=\"dataframe\">\n",
       "  <thead>\n",
       "    <tr style=\"text-align: right;\">\n",
       "      <th></th>\n",
       "      <th>Bid</th>\n",
       "      <th>Price</th>\n",
       "      <th>Competitor Price</th>\n",
       "      <th>Bid Size</th>\n",
       "      <th>Won/Loss</th>\n",
       "    </tr>\n",
       "  </thead>\n",
       "  <tbody>\n",
       "    <tr>\n",
       "      <th>0</th>\n",
       "      <td>1</td>\n",
       "      <td>8.22</td>\n",
       "      <td>8.37</td>\n",
       "      <td>267</td>\n",
       "      <td>1</td>\n",
       "    </tr>\n",
       "    <tr>\n",
       "      <th>1</th>\n",
       "      <td>2</td>\n",
       "      <td>10.01</td>\n",
       "      <td>9.32</td>\n",
       "      <td>480</td>\n",
       "      <td>0</td>\n",
       "    </tr>\n",
       "    <tr>\n",
       "      <th>2</th>\n",
       "      <td>3</td>\n",
       "      <td>8.47</td>\n",
       "      <td>8.63</td>\n",
       "      <td>217</td>\n",
       "      <td>0</td>\n",
       "    </tr>\n",
       "    <tr>\n",
       "      <th>3</th>\n",
       "      <td>4</td>\n",
       "      <td>8.77</td>\n",
       "      <td>8.99</td>\n",
       "      <td>302</td>\n",
       "      <td>1</td>\n",
       "    </tr>\n",
       "    <tr>\n",
       "      <th>4</th>\n",
       "      <td>5</td>\n",
       "      <td>9.10</td>\n",
       "      <td>9.02</td>\n",
       "      <td>301</td>\n",
       "      <td>1</td>\n",
       "    </tr>\n",
       "    <tr>\n",
       "      <th>5</th>\n",
       "      <td>6</td>\n",
       "      <td>9.03</td>\n",
       "      <td>10.01</td>\n",
       "      <td>240</td>\n",
       "      <td>1</td>\n",
       "    </tr>\n",
       "    <tr>\n",
       "      <th>6</th>\n",
       "      <td>7</td>\n",
       "      <td>9.55</td>\n",
       "      <td>8.77</td>\n",
       "      <td>237</td>\n",
       "      <td>1</td>\n",
       "    </tr>\n",
       "    <tr>\n",
       "      <th>7</th>\n",
       "      <td>8</td>\n",
       "      <td>8.99</td>\n",
       "      <td>9.37</td>\n",
       "      <td>225</td>\n",
       "      <td>0</td>\n",
       "    </tr>\n",
       "    <tr>\n",
       "      <th>8</th>\n",
       "      <td>9</td>\n",
       "      <td>9.31</td>\n",
       "      <td>8.59</td>\n",
       "      <td>243</td>\n",
       "      <td>0</td>\n",
       "    </tr>\n",
       "    <tr>\n",
       "      <th>9</th>\n",
       "      <td>10</td>\n",
       "      <td>9.22</td>\n",
       "      <td>8.99</td>\n",
       "      <td>311</td>\n",
       "      <td>0</td>\n",
       "    </tr>\n",
       "  </tbody>\n",
       "</table>\n",
       "</div>"
      ],
      "text/plain": [
       "   Bid  Price  Competitor Price  Bid Size  Won/Loss\n",
       "0    1   8.22              8.37       267         1\n",
       "1    2  10.01              9.32       480         0\n",
       "2    3   8.47              8.63       217         0\n",
       "3    4   8.77              8.99       302         1\n",
       "4    5   9.10              9.02       301         1\n",
       "5    6   9.03             10.01       240         1\n",
       "6    7   9.55              8.77       237         1\n",
       "7    8   8.99              9.37       225         0\n",
       "8    9   9.31              8.59       243         0\n",
       "9   10   9.22              8.99       311         0"
      ]
     },
     "execution_count": 2,
     "metadata": {},
     "output_type": "execute_result"
    }
   ],
   "source": [
    "data = pd.read_csv('data - Sheet1.csv')\n",
    "data"
   ]
  },
  {
   "cell_type": "markdown",
   "metadata": {},
   "source": [
    "# Baby Example"
   ]
  },
  {
   "cell_type": "code",
   "execution_count": 3,
   "metadata": {
    "ExecuteTime": {
     "end_time": "2021-08-23T01:46:31.159842Z",
     "start_time": "2021-08-23T01:46:31.155435Z"
    }
   },
   "outputs": [],
   "source": [
    "data['ratio'] = data['Price']/data['Competitor Price']"
   ]
  },
  {
   "cell_type": "code",
   "execution_count": 4,
   "metadata": {
    "ExecuteTime": {
     "end_time": "2021-08-23T01:46:31.185672Z",
     "start_time": "2021-08-23T01:46:31.177507Z"
    }
   },
   "outputs": [
    {
     "data": {
      "text/html": [
       "<div>\n",
       "<style scoped>\n",
       "    .dataframe tbody tr th:only-of-type {\n",
       "        vertical-align: middle;\n",
       "    }\n",
       "\n",
       "    .dataframe tbody tr th {\n",
       "        vertical-align: top;\n",
       "    }\n",
       "\n",
       "    .dataframe thead th {\n",
       "        text-align: right;\n",
       "    }\n",
       "</style>\n",
       "<table border=\"1\" class=\"dataframe\">\n",
       "  <thead>\n",
       "    <tr style=\"text-align: right;\">\n",
       "      <th></th>\n",
       "      <th>Bid</th>\n",
       "      <th>Price</th>\n",
       "      <th>Competitor Price</th>\n",
       "      <th>Bid Size</th>\n",
       "      <th>Won/Loss</th>\n",
       "      <th>ratio</th>\n",
       "    </tr>\n",
       "  </thead>\n",
       "  <tbody>\n",
       "    <tr>\n",
       "      <th>0</th>\n",
       "      <td>1</td>\n",
       "      <td>8.22</td>\n",
       "      <td>8.37</td>\n",
       "      <td>267</td>\n",
       "      <td>1</td>\n",
       "      <td>0.982079</td>\n",
       "    </tr>\n",
       "    <tr>\n",
       "      <th>1</th>\n",
       "      <td>2</td>\n",
       "      <td>10.01</td>\n",
       "      <td>9.32</td>\n",
       "      <td>480</td>\n",
       "      <td>0</td>\n",
       "      <td>1.074034</td>\n",
       "    </tr>\n",
       "    <tr>\n",
       "      <th>2</th>\n",
       "      <td>3</td>\n",
       "      <td>8.47</td>\n",
       "      <td>8.63</td>\n",
       "      <td>217</td>\n",
       "      <td>0</td>\n",
       "      <td>0.981460</td>\n",
       "    </tr>\n",
       "    <tr>\n",
       "      <th>3</th>\n",
       "      <td>4</td>\n",
       "      <td>8.77</td>\n",
       "      <td>8.99</td>\n",
       "      <td>302</td>\n",
       "      <td>1</td>\n",
       "      <td>0.975528</td>\n",
       "    </tr>\n",
       "    <tr>\n",
       "      <th>4</th>\n",
       "      <td>5</td>\n",
       "      <td>9.10</td>\n",
       "      <td>9.02</td>\n",
       "      <td>301</td>\n",
       "      <td>1</td>\n",
       "      <td>1.008869</td>\n",
       "    </tr>\n",
       "    <tr>\n",
       "      <th>5</th>\n",
       "      <td>6</td>\n",
       "      <td>9.03</td>\n",
       "      <td>10.01</td>\n",
       "      <td>240</td>\n",
       "      <td>1</td>\n",
       "      <td>0.902098</td>\n",
       "    </tr>\n",
       "    <tr>\n",
       "      <th>6</th>\n",
       "      <td>7</td>\n",
       "      <td>9.55</td>\n",
       "      <td>8.77</td>\n",
       "      <td>237</td>\n",
       "      <td>1</td>\n",
       "      <td>1.088940</td>\n",
       "    </tr>\n",
       "    <tr>\n",
       "      <th>7</th>\n",
       "      <td>8</td>\n",
       "      <td>8.99</td>\n",
       "      <td>9.37</td>\n",
       "      <td>225</td>\n",
       "      <td>0</td>\n",
       "      <td>0.959445</td>\n",
       "    </tr>\n",
       "    <tr>\n",
       "      <th>8</th>\n",
       "      <td>9</td>\n",
       "      <td>9.31</td>\n",
       "      <td>8.59</td>\n",
       "      <td>243</td>\n",
       "      <td>0</td>\n",
       "      <td>1.083818</td>\n",
       "    </tr>\n",
       "    <tr>\n",
       "      <th>9</th>\n",
       "      <td>10</td>\n",
       "      <td>9.22</td>\n",
       "      <td>8.99</td>\n",
       "      <td>311</td>\n",
       "      <td>0</td>\n",
       "      <td>1.025584</td>\n",
       "    </tr>\n",
       "  </tbody>\n",
       "</table>\n",
       "</div>"
      ],
      "text/plain": [
       "   Bid  Price  Competitor Price  Bid Size  Won/Loss     ratio\n",
       "0    1   8.22              8.37       267         1  0.982079\n",
       "1    2  10.01              9.32       480         0  1.074034\n",
       "2    3   8.47              8.63       217         0  0.981460\n",
       "3    4   8.77              8.99       302         1  0.975528\n",
       "4    5   9.10              9.02       301         1  1.008869\n",
       "5    6   9.03             10.01       240         1  0.902098\n",
       "6    7   9.55              8.77       237         1  1.088940\n",
       "7    8   8.99              9.37       225         0  0.959445\n",
       "8    9   9.31              8.59       243         0  1.083818\n",
       "9   10   9.22              8.99       311         0  1.025584"
      ]
     },
     "execution_count": 4,
     "metadata": {},
     "output_type": "execute_result"
    }
   ],
   "source": [
    "data"
   ]
  },
  {
   "cell_type": "code",
   "execution_count": 5,
   "metadata": {
    "ExecuteTime": {
     "end_time": "2021-08-23T01:46:31.223309Z",
     "start_time": "2021-08-23T01:46:31.200958Z"
    }
   },
   "outputs": [
    {
     "name": "stdout",
     "output_type": "stream",
     "text": [
      "Optimization terminated successfully.\n",
      "         Current function value: 2.287493\n",
      "         Iterations: 5\n",
      "         Function evaluations: 18\n",
      "         Gradient evaluations: 9\n",
      "[10.65686925]\n",
      "-2.287492864710103\n",
      "2.287492864710103\n",
      "      fun: 2.287492864710103\n",
      " hess_inv: array([[336.56257642]])\n",
      "      jac: array([-1.78813934e-07])\n",
      "  message: 'Optimization terminated successfully.'\n",
      "     nfev: 18\n",
      "      nit: 5\n",
      "     njev: 9\n",
      "   status: 0\n",
      "  success: True\n",
      "        x: array([10.65686925])\n"
     ]
    }
   ],
   "source": [
    "def f(x):\n",
    "    \n",
    "    win_probability = 1/(1+data['ratio']**x)\n",
    "    se = (data['Won/Loss']-win_probability)**2\n",
    "    sse = se.sum()\n",
    "    return sse\n",
    "\n",
    "def objective(x):\n",
    "    # minus sign means the opposite of minimize\n",
    "    return f(x)\n",
    "\n",
    "x0 = 1\n",
    "\n",
    "sol = minimize(objective,x0,options={'disp':True})\n",
    "\n",
    "xOpt = sol.x\n",
    "print(xOpt)\n",
    "\n",
    "print(-sol.fun)\n",
    "\n",
    "print(f(xOpt))\n",
    "\n",
    "print(sol)\n",
    "\n",
    "    "
   ]
  },
  {
   "cell_type": "code",
   "execution_count": 6,
   "metadata": {
    "ExecuteTime": {
     "end_time": "2021-08-23T01:46:31.244393Z",
     "start_time": "2021-08-23T01:46:31.241661Z"
    }
   },
   "outputs": [
    {
     "name": "stdout",
     "output_type": "stream",
     "text": [
      "[10.65686925]\n"
     ]
    }
   ],
   "source": [
    "print(xOpt)"
   ]
  },
  {
   "cell_type": "markdown",
   "metadata": {},
   "source": [
    "# Junior Example"
   ]
  },
  {
   "cell_type": "code",
   "execution_count": 7,
   "metadata": {
    "ExecuteTime": {
     "end_time": "2021-08-23T01:46:31.511144Z",
     "start_time": "2021-08-23T01:46:31.497909Z"
    }
   },
   "outputs": [
    {
     "data": {
      "text/html": [
       "<div>\n",
       "<style scoped>\n",
       "    .dataframe tbody tr th:only-of-type {\n",
       "        vertical-align: middle;\n",
       "    }\n",
       "\n",
       "    .dataframe tbody tr th {\n",
       "        vertical-align: top;\n",
       "    }\n",
       "\n",
       "    .dataframe thead th {\n",
       "        text-align: right;\n",
       "    }\n",
       "</style>\n",
       "<table border=\"1\" class=\"dataframe\">\n",
       "  <thead>\n",
       "    <tr style=\"text-align: right;\">\n",
       "      <th></th>\n",
       "      <th>Bid</th>\n",
       "      <th>Price</th>\n",
       "      <th>Competitor Price</th>\n",
       "      <th>Bid Size</th>\n",
       "      <th>Won/Loss</th>\n",
       "      <th>ratio</th>\n",
       "    </tr>\n",
       "  </thead>\n",
       "  <tbody>\n",
       "    <tr>\n",
       "      <th>0</th>\n",
       "      <td>1</td>\n",
       "      <td>8.22</td>\n",
       "      <td>8.37</td>\n",
       "      <td>267</td>\n",
       "      <td>1</td>\n",
       "      <td>0.982079</td>\n",
       "    </tr>\n",
       "    <tr>\n",
       "      <th>1</th>\n",
       "      <td>2</td>\n",
       "      <td>10.01</td>\n",
       "      <td>9.32</td>\n",
       "      <td>480</td>\n",
       "      <td>0</td>\n",
       "      <td>1.074034</td>\n",
       "    </tr>\n",
       "    <tr>\n",
       "      <th>2</th>\n",
       "      <td>3</td>\n",
       "      <td>8.47</td>\n",
       "      <td>8.63</td>\n",
       "      <td>217</td>\n",
       "      <td>0</td>\n",
       "      <td>0.981460</td>\n",
       "    </tr>\n",
       "    <tr>\n",
       "      <th>3</th>\n",
       "      <td>4</td>\n",
       "      <td>8.77</td>\n",
       "      <td>8.99</td>\n",
       "      <td>302</td>\n",
       "      <td>1</td>\n",
       "      <td>0.975528</td>\n",
       "    </tr>\n",
       "    <tr>\n",
       "      <th>4</th>\n",
       "      <td>5</td>\n",
       "      <td>9.10</td>\n",
       "      <td>9.02</td>\n",
       "      <td>301</td>\n",
       "      <td>1</td>\n",
       "      <td>1.008869</td>\n",
       "    </tr>\n",
       "    <tr>\n",
       "      <th>5</th>\n",
       "      <td>6</td>\n",
       "      <td>9.03</td>\n",
       "      <td>10.01</td>\n",
       "      <td>240</td>\n",
       "      <td>1</td>\n",
       "      <td>0.902098</td>\n",
       "    </tr>\n",
       "    <tr>\n",
       "      <th>6</th>\n",
       "      <td>7</td>\n",
       "      <td>9.55</td>\n",
       "      <td>8.77</td>\n",
       "      <td>237</td>\n",
       "      <td>1</td>\n",
       "      <td>1.088940</td>\n",
       "    </tr>\n",
       "    <tr>\n",
       "      <th>7</th>\n",
       "      <td>8</td>\n",
       "      <td>8.99</td>\n",
       "      <td>9.37</td>\n",
       "      <td>225</td>\n",
       "      <td>0</td>\n",
       "      <td>0.959445</td>\n",
       "    </tr>\n",
       "    <tr>\n",
       "      <th>8</th>\n",
       "      <td>9</td>\n",
       "      <td>9.31</td>\n",
       "      <td>8.59</td>\n",
       "      <td>243</td>\n",
       "      <td>0</td>\n",
       "      <td>1.083818</td>\n",
       "    </tr>\n",
       "    <tr>\n",
       "      <th>9</th>\n",
       "      <td>10</td>\n",
       "      <td>9.22</td>\n",
       "      <td>8.99</td>\n",
       "      <td>311</td>\n",
       "      <td>0</td>\n",
       "      <td>1.025584</td>\n",
       "    </tr>\n",
       "  </tbody>\n",
       "</table>\n",
       "</div>"
      ],
      "text/plain": [
       "   Bid  Price  Competitor Price  Bid Size  Won/Loss     ratio\n",
       "0    1   8.22              8.37       267         1  0.982079\n",
       "1    2  10.01              9.32       480         0  1.074034\n",
       "2    3   8.47              8.63       217         0  0.981460\n",
       "3    4   8.77              8.99       302         1  0.975528\n",
       "4    5   9.10              9.02       301         1  1.008869\n",
       "5    6   9.03             10.01       240         1  0.902098\n",
       "6    7   9.55              8.77       237         1  1.088940\n",
       "7    8   8.99              9.37       225         0  0.959445\n",
       "8    9   9.31              8.59       243         0  1.083818\n",
       "9   10   9.22              8.99       311         0  1.025584"
      ]
     },
     "execution_count": 7,
     "metadata": {},
     "output_type": "execute_result"
    }
   ],
   "source": [
    "data"
   ]
  },
  {
   "cell_type": "code",
   "execution_count": 8,
   "metadata": {
    "ExecuteTime": {
     "end_time": "2021-08-23T01:46:31.745275Z",
     "start_time": "2021-08-23T01:46:31.653276Z"
    }
   },
   "outputs": [
    {
     "name": "stdout",
     "output_type": "stream",
     "text": [
      "Optimization terminated successfully.\n",
      "         Current function value: 6.545935\n",
      "         Iterations: 16\n",
      "         Function evaluations: 54\n",
      "         Gradient evaluations: 18\n",
      "[-10.89954637   1.20226813]\n",
      "-6.545934540330984\n",
      "-6.545934540330984\n",
      "      fun: 6.545934540330984\n",
      " hess_inv: array([[168.22359314, -18.51742308],\n",
      "       [-18.51742308,   2.04357128]])\n",
      "      jac: array([5.96046448e-08, 2.38418579e-07])\n",
      "  message: 'Optimization terminated successfully.'\n",
      "     nfev: 54\n",
      "      nit: 16\n",
      "     njev: 18\n",
      "   status: 0\n",
      "  success: True\n",
      "        x: array([-10.89954637,   1.20226813])\n"
     ]
    }
   ],
   "source": [
    "def f(x):\n",
    "    \n",
    "    win_probability = 1/(1+np.exp(x[0]+data['Price']*x[1]))\n",
    "    likelihood = (data['Won/Loss']*win_probability)+(1-data['Won/Loss'])*(1-win_probability)\n",
    "    ln_likelihood = np.log(likelihood)\n",
    "    sse = ln_likelihood.sum()\n",
    "    return sse\n",
    "    \n",
    "def objective(x):\n",
    "    # minus sign means the opposite of minimize\n",
    "    return -f(x)\n",
    "\n",
    "x0 = np.array([1,1])\n",
    "sol = minimize(objective,x0,options={'disp':True})\n",
    "\n",
    "xOpt = sol.x\n",
    "print(xOpt)\n",
    "\n",
    "print(-sol.fun)\n",
    "\n",
    "print(f(xOpt))\n",
    "\n",
    "print(sol)\n",
    "\n",
    "    "
   ]
  },
  {
   "cell_type": "markdown",
   "metadata": {},
   "source": [
    "# Junior Example 2"
   ]
  },
  {
   "cell_type": "code",
   "execution_count": 9,
   "metadata": {
    "ExecuteTime": {
     "end_time": "2021-08-23T01:46:32.076964Z",
     "start_time": "2021-08-23T01:46:31.937323Z"
    }
   },
   "outputs": [
    {
     "name": "stdout",
     "output_type": "stream",
     "text": [
      "Optimization terminated successfully.\n",
      "         Current function value: 6.404998\n",
      "         Iterations: 19\n",
      "         Function evaluations: 96\n",
      "         Gradient evaluations: 24\n",
      "[-5.7320382   1.46916186 -0.84165018]\n",
      "-6.404998364798566\n",
      "-6.404998364798566\n",
      "      fun: 6.404998364798566\n",
      " hess_inv: array([[255.69154347, -12.67142899, -15.61972421],\n",
      "       [-12.67142899,   2.27355254,  -0.8758541 ],\n",
      "       [-15.61972421,  -0.8758541 ,   2.61379396]])\n",
      "      jac: array([-2.38418579e-07, -1.84774399e-06, -1.78813934e-06])\n",
      "  message: 'Optimization terminated successfully.'\n",
      "     nfev: 96\n",
      "      nit: 19\n",
      "     njev: 24\n",
      "   status: 0\n",
      "  success: True\n",
      "        x: array([-5.7320382 ,  1.46916186, -0.84165018])\n"
     ]
    },
    {
     "name": "stderr",
     "output_type": "stream",
     "text": [
      "/home/cst/anaconda3/lib/python3.8/site-packages/pandas/core/series.py:726: RuntimeWarning: divide by zero encountered in log\n",
      "  result = getattr(ufunc, method)(*inputs, **kwargs)\n",
      "/home/cst/anaconda3/lib/python3.8/site-packages/scipy/optimize/_numdiff.py:497: RuntimeWarning: invalid value encountered in subtract\n",
      "  df = fun(x) - f0\n"
     ]
    }
   ],
   "source": [
    "def f(x):\n",
    "    \n",
    "    win_probability = 1/(1+np.exp(x[0]+data['Price']*x[1]+data['Competitor Price']*x[2]))\n",
    "    likelihood = (data['Won/Loss']*win_probability)+(1-data['Won/Loss'])*(1-win_probability)\n",
    "    ln_likelihood = np.log(likelihood)\n",
    "    sse = ln_likelihood.sum()\n",
    "    return sse\n",
    "    \n",
    "def objective(x):\n",
    "    # minus sign means the opposite of minimize\n",
    "    return -f(x)\n",
    "\n",
    "x0 = np.array([1,1,1])\n",
    "sol = minimize(objective,x0,options={'disp':True})\n",
    "\n",
    "xOpt = sol.x\n",
    "print(xOpt)\n",
    "\n",
    "print(-sol.fun)\n",
    "\n",
    "print(f(xOpt))\n",
    "\n",
    "print(sol)\n",
    "\n",
    "    "
   ]
  },
  {
   "cell_type": "markdown",
   "metadata": {},
   "source": [
    "# Junior Example 3"
   ]
  },
  {
   "cell_type": "code",
   "execution_count": 10,
   "metadata": {
    "ExecuteTime": {
     "end_time": "2021-08-23T01:46:32.648740Z",
     "start_time": "2021-08-23T01:46:32.247609Z"
    }
   },
   "outputs": [
    {
     "name": "stderr",
     "output_type": "stream",
     "text": [
      "/home/cst/anaconda3/lib/python3.8/site-packages/pandas/core/series.py:726: RuntimeWarning: divide by zero encountered in log\n",
      "  result = getattr(ufunc, method)(*inputs, **kwargs)\n",
      "/home/cst/anaconda3/lib/python3.8/site-packages/scipy/optimize/_numdiff.py:497: RuntimeWarning: invalid value encountered in subtract\n",
      "  df = fun(x) - f0\n",
      "/home/cst/anaconda3/lib/python3.8/site-packages/pandas/core/series.py:726: RuntimeWarning: divide by zero encountered in log\n",
      "  result = getattr(ufunc, method)(*inputs, **kwargs)\n"
     ]
    },
    {
     "name": "stdout",
     "output_type": "stream",
     "text": [
      "Warning: Desired error not necessarily achieved due to precision loss.\n",
      "         Current function value: 6.403630\n",
      "         Iterations: 25\n",
      "         Function evaluations: 279\n",
      "         Gradient evaluations: 55\n",
      "[-5.47292375e+00  1.41730535e+00 -8.37586244e-01  6.20341892e-04]\n",
      "-6.403630015376784\n",
      "-6.403630015376784\n",
      "      fun: 6.403630015376784\n",
      " hess_inv: array([[ 2.96110231e+02, -1.72440329e+01, -1.72961685e+01,\n",
      "         5.21370390e-02],\n",
      "       [-1.72440329e+01,  1.03135296e+00,  1.03611745e+00,\n",
      "        -4.76473192e-03],\n",
      "       [-1.72961685e+01,  1.03611745e+00,  1.04100721e+00,\n",
      "        -4.88969797e-03],\n",
      "       [ 5.21370390e-02, -4.76473192e-03, -4.88969797e-03,\n",
      "         1.24966746e-04]])\n",
      "      jac: array([-1.78813934e-07, -2.02655792e-06, -1.72853470e-06, -6.19888306e-05])\n",
      "  message: 'Desired error not necessarily achieved due to precision loss.'\n",
      "     nfev: 279\n",
      "      nit: 25\n",
      "     njev: 55\n",
      "   status: 2\n",
      "  success: False\n",
      "        x: array([-5.47292375e+00,  1.41730535e+00, -8.37586244e-01,  6.20341892e-04])\n"
     ]
    }
   ],
   "source": [
    "def f(x):\n",
    "    \n",
    "    win_probability = 1/(1+np.exp(x[0]+data['Price']*x[1]+data['Competitor Price']*x[2]+data['Bid Size']*x[3]))\n",
    "    likelihood = (data['Won/Loss']*win_probability)+(1-data['Won/Loss'])*(1-win_probability)\n",
    "    ln_likelihood = np.log(likelihood)\n",
    "    sse = ln_likelihood.sum()\n",
    "    return sse\n",
    "    \n",
    "def objective(x):\n",
    "    # minus sign means the opposite of minimize\n",
    "    return -f(x)\n",
    "\n",
    "x0 = np.array([1,1,1,1])\n",
    "sol = minimize(objective,x0,options={'disp':True})\n",
    "\n",
    "xOpt = sol.x\n",
    "print(xOpt)\n",
    "\n",
    "print(-sol.fun)\n",
    "\n",
    "print(f(xOpt))\n",
    "\n",
    "print(sol)\n",
    "\n",
    "    "
   ]
  },
  {
   "cell_type": "markdown",
   "metadata": {},
   "source": [
    "# Price Model"
   ]
  },
  {
   "cell_type": "code",
   "execution_count": 26,
   "metadata": {
    "ExecuteTime": {
     "end_time": "2021-08-23T01:52:56.540209Z",
     "start_time": "2021-08-23T01:52:56.534692Z"
    }
   },
   "outputs": [],
   "source": [
    "MSRP = 25000\n",
    "Unit_Cost = 15000"
   ]
  },
  {
   "cell_type": "code",
   "execution_count": 27,
   "metadata": {
    "ExecuteTime": {
     "end_time": "2021-08-23T01:52:56.679588Z",
     "start_time": "2021-08-23T01:52:56.673148Z"
    }
   },
   "outputs": [],
   "source": [
    "fleet_sales = pd.read_csv('fleet_sales.csv')"
   ]
  },
  {
   "cell_type": "code",
   "execution_count": 28,
   "metadata": {
    "ExecuteTime": {
     "end_time": "2021-08-23T01:52:56.835917Z",
     "start_time": "2021-08-23T01:52:56.813954Z"
    }
   },
   "outputs": [],
   "source": [
    "for col in fleet_sales.columns:\n",
    "    \n",
    "    fleet_sales[col] = fleet_sales[col].apply(lambda x: ''.join([n for n in str(x) if n.isdigit()]) )\n",
    "    fleet_sales[col] = fleet_sales[col].astype(float)"
   ]
  },
  {
   "cell_type": "code",
   "execution_count": 29,
   "metadata": {
    "ExecuteTime": {
     "end_time": "2021-08-23T01:52:56.974376Z",
     "start_time": "2021-08-23T01:52:56.963399Z"
    }
   },
   "outputs": [],
   "source": [
    "fleet_sales['Discount_Pctg'] = (MSRP-fleet_sales['Unit Price'])/MSRP\n",
    "fleet_sales['Unit_Margin'] = fleet_sales['Unit Price']-Unit_Cost\n",
    "fleet_sales['Units_Sold'] = fleet_sales['Win']*fleet_sales['Units']\n",
    "fleet_sales['Total_Margin'] = fleet_sales['Units_Sold']*fleet_sales['Unit_Margin']"
   ]
  },
  {
   "cell_type": "code",
   "execution_count": 30,
   "metadata": {
    "ExecuteTime": {
     "end_time": "2021-08-23T01:52:57.157212Z",
     "start_time": "2021-08-23T01:52:57.154224Z"
    }
   },
   "outputs": [],
   "source": [
    "fleet_sales['Price_Ratio'] = fleet_sales['Unit Price']/MSRP"
   ]
  },
  {
   "cell_type": "code",
   "execution_count": 31,
   "metadata": {
    "ExecuteTime": {
     "end_time": "2021-08-23T01:52:57.426186Z",
     "start_time": "2021-08-23T01:52:57.357540Z"
    }
   },
   "outputs": [
    {
     "name": "stdout",
     "output_type": "stream",
     "text": [
      "Optimization terminated successfully.\n",
      "         Current function value: 2261.869726\n",
      "         Iterations: 8\n",
      "         Function evaluations: 39\n",
      "         Gradient evaluations: 13\n",
      "[-7.75627241  9.16420237]\n",
      "-2261.869726420981\n",
      "-2261.869726420981\n",
      "      fun: 2261.869726420981\n",
      " hess_inv: array([[ 0.1228791 , -0.15694856],\n",
      "       [-0.15694856,  0.20262289]])\n",
      "      jac: array([0., 0.])\n",
      "  message: 'Optimization terminated successfully.'\n",
      "     nfev: 39\n",
      "      nit: 8\n",
      "     njev: 13\n",
      "   status: 0\n",
      "  success: True\n",
      "        x: array([-7.75627241,  9.16420237])\n"
     ]
    }
   ],
   "source": [
    "def f(x):\n",
    "    \n",
    "    win_probability = 1/(1+np.exp(x[0]+fleet_sales['Price_Ratio']*x[1]))    \n",
    "    likelihood = (fleet_sales['Win']*win_probability)+(1-fleet_sales['Win'])*(1-win_probability)\n",
    "    ln_likelihood = np.log(likelihood)\n",
    "    sse = ln_likelihood.sum()\n",
    "    return sse\n",
    "  \n",
    "\n",
    "    \n",
    "def objective(x):\n",
    "    # minus sign means the opposite of minimize\n",
    "    return -f(x)\n",
    "\n",
    "x0 = np.array([1,1])\n",
    "f(x0)\n",
    "\n",
    "sol = minimize(objective,x0,options={'disp':True})\n",
    "\n",
    "xOpt = sol.x\n",
    "print(xOpt)\n",
    "\n",
    "print(-sol.fun)\n",
    "\n",
    "print(f(xOpt))\n",
    "\n",
    "print(sol)"
   ]
  },
  {
   "cell_type": "markdown",
   "metadata": {
    "ExecuteTime": {
     "end_time": "2021-08-20T08:49:29.686599Z",
     "start_time": "2021-08-20T08:49:29.666221Z"
    }
   },
   "source": [
    "## Recalculate Everything"
   ]
  },
  {
   "cell_type": "code",
   "execution_count": 32,
   "metadata": {
    "ExecuteTime": {
     "end_time": "2021-08-23T01:53:06.248862Z",
     "start_time": "2021-08-23T01:53:06.244039Z"
    }
   },
   "outputs": [],
   "source": [
    "fleet_sales['win_probability'] = 1/(1+np.exp(xOpt[0]+fleet_sales['Price_Ratio']*xOpt[1]))    \n",
    "fleet_sales['likelihood'] = (fleet_sales['Win']*fleet_sales['win_probability'])+(1-fleet_sales['Win'])*(1-fleet_sales['win_probability'])\n",
    "fleet_sales['ln_likelihood'] = np.log(fleet_sales['likelihood'])"
   ]
  },
  {
   "cell_type": "code",
   "execution_count": 33,
   "metadata": {
    "ExecuteTime": {
     "end_time": "2021-08-23T01:53:06.589086Z",
     "start_time": "2021-08-23T01:53:06.564452Z"
    }
   },
   "outputs": [
    {
     "data": {
      "text/html": [
       "<div>\n",
       "<style scoped>\n",
       "    .dataframe tbody tr th:only-of-type {\n",
       "        vertical-align: middle;\n",
       "    }\n",
       "\n",
       "    .dataframe tbody tr th {\n",
       "        vertical-align: top;\n",
       "    }\n",
       "\n",
       "    .dataframe thead th {\n",
       "        text-align: right;\n",
       "    }\n",
       "</style>\n",
       "<table border=\"1\" class=\"dataframe\">\n",
       "  <thead>\n",
       "    <tr style=\"text-align: right;\">\n",
       "      <th></th>\n",
       "      <th>Bid No.</th>\n",
       "      <th>Units</th>\n",
       "      <th>Unit Price</th>\n",
       "      <th>Total Price</th>\n",
       "      <th>Win</th>\n",
       "      <th>Discount_Pctg</th>\n",
       "      <th>Unit_Margin</th>\n",
       "      <th>Units_Sold</th>\n",
       "      <th>Total_Margin</th>\n",
       "      <th>Price_Ratio</th>\n",
       "      <th>win_probability</th>\n",
       "      <th>likelihood</th>\n",
       "      <th>ln_likelihood</th>\n",
       "    </tr>\n",
       "  </thead>\n",
       "  <tbody>\n",
       "    <tr>\n",
       "      <th>0</th>\n",
       "      <td>1.0</td>\n",
       "      <td>12.0</td>\n",
       "      <td>16551.0</td>\n",
       "      <td>198612.0</td>\n",
       "      <td>1.0</td>\n",
       "      <td>0.33796</td>\n",
       "      <td>1551.0</td>\n",
       "      <td>12.0</td>\n",
       "      <td>18612.0</td>\n",
       "      <td>0.66204</td>\n",
       "      <td>0.844119</td>\n",
       "      <td>0.844119</td>\n",
       "      <td>-0.169461</td>\n",
       "    </tr>\n",
       "    <tr>\n",
       "      <th>1</th>\n",
       "      <td>2.0</td>\n",
       "      <td>24.0</td>\n",
       "      <td>16272.0</td>\n",
       "      <td>390523.0</td>\n",
       "      <td>0.0</td>\n",
       "      <td>0.34912</td>\n",
       "      <td>1272.0</td>\n",
       "      <td>0.0</td>\n",
       "      <td>0.0</td>\n",
       "      <td>0.65088</td>\n",
       "      <td>0.857108</td>\n",
       "      <td>0.142892</td>\n",
       "      <td>-1.945667</td>\n",
       "    </tr>\n",
       "    <tr>\n",
       "      <th>2</th>\n",
       "      <td>3.0</td>\n",
       "      <td>16.0</td>\n",
       "      <td>21266.0</td>\n",
       "      <td>340261.0</td>\n",
       "      <td>1.0</td>\n",
       "      <td>0.14936</td>\n",
       "      <td>6266.0</td>\n",
       "      <td>16.0</td>\n",
       "      <td>100256.0</td>\n",
       "      <td>0.85064</td>\n",
       "      <td>0.490210</td>\n",
       "      <td>0.490210</td>\n",
       "      <td>-0.712921</td>\n",
       "    </tr>\n",
       "    <tr>\n",
       "      <th>3</th>\n",
       "      <td>4.0</td>\n",
       "      <td>21.0</td>\n",
       "      <td>18805.0</td>\n",
       "      <td>394910.0</td>\n",
       "      <td>0.0</td>\n",
       "      <td>0.24780</td>\n",
       "      <td>3805.0</td>\n",
       "      <td>0.0</td>\n",
       "      <td>0.0</td>\n",
       "      <td>0.75220</td>\n",
       "      <td>0.703279</td>\n",
       "      <td>0.296721</td>\n",
       "      <td>-1.214962</td>\n",
       "    </tr>\n",
       "    <tr>\n",
       "      <th>4</th>\n",
       "      <td>5.0</td>\n",
       "      <td>27.0</td>\n",
       "      <td>15884.0</td>\n",
       "      <td>428864.0</td>\n",
       "      <td>0.0</td>\n",
       "      <td>0.36464</td>\n",
       "      <td>884.0</td>\n",
       "      <td>0.0</td>\n",
       "      <td>0.0</td>\n",
       "      <td>0.63536</td>\n",
       "      <td>0.873659</td>\n",
       "      <td>0.126341</td>\n",
       "      <td>-2.068770</td>\n",
       "    </tr>\n",
       "    <tr>\n",
       "      <th>...</th>\n",
       "      <td>...</td>\n",
       "      <td>...</td>\n",
       "      <td>...</td>\n",
       "      <td>...</td>\n",
       "      <td>...</td>\n",
       "      <td>...</td>\n",
       "      <td>...</td>\n",
       "      <td>...</td>\n",
       "      <td>...</td>\n",
       "      <td>...</td>\n",
       "      <td>...</td>\n",
       "      <td>...</td>\n",
       "      <td>...</td>\n",
       "    </tr>\n",
       "    <tr>\n",
       "      <th>3995</th>\n",
       "      <td>3996.0</td>\n",
       "      <td>10.0</td>\n",
       "      <td>15316.0</td>\n",
       "      <td>153162.0</td>\n",
       "      <td>1.0</td>\n",
       "      <td>0.38736</td>\n",
       "      <td>316.0</td>\n",
       "      <td>10.0</td>\n",
       "      <td>3160.0</td>\n",
       "      <td>0.61264</td>\n",
       "      <td>0.894911</td>\n",
       "      <td>0.894911</td>\n",
       "      <td>-0.111031</td>\n",
       "    </tr>\n",
       "    <tr>\n",
       "      <th>3996</th>\n",
       "      <td>3997.0</td>\n",
       "      <td>17.0</td>\n",
       "      <td>21131.0</td>\n",
       "      <td>359232.0</td>\n",
       "      <td>1.0</td>\n",
       "      <td>0.15476</td>\n",
       "      <td>6131.0</td>\n",
       "      <td>17.0</td>\n",
       "      <td>104227.0</td>\n",
       "      <td>0.84524</td>\n",
       "      <td>0.502580</td>\n",
       "      <td>0.502580</td>\n",
       "      <td>-0.687999</td>\n",
       "    </tr>\n",
       "    <tr>\n",
       "      <th>3997</th>\n",
       "      <td>3998.0</td>\n",
       "      <td>25.0</td>\n",
       "      <td>18005.0</td>\n",
       "      <td>450125.0</td>\n",
       "      <td>1.0</td>\n",
       "      <td>0.27980</td>\n",
       "      <td>3005.0</td>\n",
       "      <td>25.0</td>\n",
       "      <td>75125.0</td>\n",
       "      <td>0.72020</td>\n",
       "      <td>0.760644</td>\n",
       "      <td>0.760644</td>\n",
       "      <td>-0.273590</td>\n",
       "    </tr>\n",
       "    <tr>\n",
       "      <th>3998</th>\n",
       "      <td>3999.0</td>\n",
       "      <td>14.0</td>\n",
       "      <td>20395.0</td>\n",
       "      <td>285533.0</td>\n",
       "      <td>1.0</td>\n",
       "      <td>0.18420</td>\n",
       "      <td>5395.0</td>\n",
       "      <td>14.0</td>\n",
       "      <td>75530.0</td>\n",
       "      <td>0.81580</td>\n",
       "      <td>0.569575</td>\n",
       "      <td>0.569575</td>\n",
       "      <td>-0.562865</td>\n",
       "    </tr>\n",
       "    <tr>\n",
       "      <th>3999</th>\n",
       "      <td>4000.0</td>\n",
       "      <td>29.0</td>\n",
       "      <td>21134.0</td>\n",
       "      <td>612882.0</td>\n",
       "      <td>1.0</td>\n",
       "      <td>0.15464</td>\n",
       "      <td>6134.0</td>\n",
       "      <td>29.0</td>\n",
       "      <td>177886.0</td>\n",
       "      <td>0.84536</td>\n",
       "      <td>0.502306</td>\n",
       "      <td>0.502306</td>\n",
       "      <td>-0.688547</td>\n",
       "    </tr>\n",
       "  </tbody>\n",
       "</table>\n",
       "<p>4000 rows × 13 columns</p>\n",
       "</div>"
      ],
      "text/plain": [
       "      Bid No.  Units  Unit Price  Total Price  Win  Discount_Pctg  \\\n",
       "0         1.0   12.0     16551.0     198612.0  1.0        0.33796   \n",
       "1         2.0   24.0     16272.0     390523.0  0.0        0.34912   \n",
       "2         3.0   16.0     21266.0     340261.0  1.0        0.14936   \n",
       "3         4.0   21.0     18805.0     394910.0  0.0        0.24780   \n",
       "4         5.0   27.0     15884.0     428864.0  0.0        0.36464   \n",
       "...       ...    ...         ...          ...  ...            ...   \n",
       "3995   3996.0   10.0     15316.0     153162.0  1.0        0.38736   \n",
       "3996   3997.0   17.0     21131.0     359232.0  1.0        0.15476   \n",
       "3997   3998.0   25.0     18005.0     450125.0  1.0        0.27980   \n",
       "3998   3999.0   14.0     20395.0     285533.0  1.0        0.18420   \n",
       "3999   4000.0   29.0     21134.0     612882.0  1.0        0.15464   \n",
       "\n",
       "      Unit_Margin  Units_Sold  Total_Margin  Price_Ratio  win_probability  \\\n",
       "0          1551.0        12.0       18612.0      0.66204         0.844119   \n",
       "1          1272.0         0.0           0.0      0.65088         0.857108   \n",
       "2          6266.0        16.0      100256.0      0.85064         0.490210   \n",
       "3          3805.0         0.0           0.0      0.75220         0.703279   \n",
       "4           884.0         0.0           0.0      0.63536         0.873659   \n",
       "...           ...         ...           ...          ...              ...   \n",
       "3995        316.0        10.0        3160.0      0.61264         0.894911   \n",
       "3996       6131.0        17.0      104227.0      0.84524         0.502580   \n",
       "3997       3005.0        25.0       75125.0      0.72020         0.760644   \n",
       "3998       5395.0        14.0       75530.0      0.81580         0.569575   \n",
       "3999       6134.0        29.0      177886.0      0.84536         0.502306   \n",
       "\n",
       "      likelihood  ln_likelihood  \n",
       "0       0.844119      -0.169461  \n",
       "1       0.142892      -1.945667  \n",
       "2       0.490210      -0.712921  \n",
       "3       0.296721      -1.214962  \n",
       "4       0.126341      -2.068770  \n",
       "...          ...            ...  \n",
       "3995    0.894911      -0.111031  \n",
       "3996    0.502580      -0.687999  \n",
       "3997    0.760644      -0.273590  \n",
       "3998    0.569575      -0.562865  \n",
       "3999    0.502306      -0.688547  \n",
       "\n",
       "[4000 rows x 13 columns]"
      ]
     },
     "execution_count": 33,
     "metadata": {},
     "output_type": "execute_result"
    }
   ],
   "source": [
    "fleet_sales"
   ]
  },
  {
   "cell_type": "code",
   "execution_count": 34,
   "metadata": {
    "ExecuteTime": {
     "end_time": "2021-08-23T01:53:06.736264Z",
     "start_time": "2021-08-23T01:53:06.717142Z"
    }
   },
   "outputs": [
    {
     "data": {
      "text/html": [
       "<div>\n",
       "<style scoped>\n",
       "    .dataframe tbody tr th:only-of-type {\n",
       "        vertical-align: middle;\n",
       "    }\n",
       "\n",
       "    .dataframe tbody tr th {\n",
       "        vertical-align: top;\n",
       "    }\n",
       "\n",
       "    .dataframe thead th {\n",
       "        text-align: right;\n",
       "    }\n",
       "</style>\n",
       "<table border=\"1\" class=\"dataframe\">\n",
       "  <thead>\n",
       "    <tr style=\"text-align: right;\">\n",
       "      <th></th>\n",
       "      <th>price_ratio</th>\n",
       "      <th>prob</th>\n",
       "      <th>unit_margin</th>\n",
       "    </tr>\n",
       "  </thead>\n",
       "  <tbody>\n",
       "    <tr>\n",
       "      <th>0</th>\n",
       "      <td>0.50</td>\n",
       "      <td>0.959851</td>\n",
       "      <td>-2399.626604</td>\n",
       "    </tr>\n",
       "    <tr>\n",
       "      <th>1</th>\n",
       "      <td>0.51</td>\n",
       "      <td>0.956166</td>\n",
       "      <td>-2151.374201</td>\n",
       "    </tr>\n",
       "    <tr>\n",
       "      <th>2</th>\n",
       "      <td>0.52</td>\n",
       "      <td>0.952161</td>\n",
       "      <td>-1904.321476</td>\n",
       "    </tr>\n",
       "    <tr>\n",
       "      <th>3</th>\n",
       "      <td>0.53</td>\n",
       "      <td>0.947809</td>\n",
       "      <td>-1658.665942</td>\n",
       "    </tr>\n",
       "    <tr>\n",
       "      <th>4</th>\n",
       "      <td>0.54</td>\n",
       "      <td>0.943085</td>\n",
       "      <td>-1414.627954</td>\n",
       "    </tr>\n",
       "    <tr>\n",
       "      <th>...</th>\n",
       "      <td>...</td>\n",
       "      <td>...</td>\n",
       "      <td>...</td>\n",
       "    </tr>\n",
       "    <tr>\n",
       "      <th>56</th>\n",
       "      <td>1.06</td>\n",
       "      <td>0.123707</td>\n",
       "      <td>1422.633666</td>\n",
       "    </tr>\n",
       "    <tr>\n",
       "      <th>57</th>\n",
       "      <td>1.07</td>\n",
       "      <td>0.114111</td>\n",
       "      <td>1340.799349</td>\n",
       "    </tr>\n",
       "    <tr>\n",
       "      <th>58</th>\n",
       "      <td>1.08</td>\n",
       "      <td>0.105169</td>\n",
       "      <td>1262.028161</td>\n",
       "    </tr>\n",
       "    <tr>\n",
       "      <th>59</th>\n",
       "      <td>1.09</td>\n",
       "      <td>0.096851</td>\n",
       "      <td>1186.430810</td>\n",
       "    </tr>\n",
       "    <tr>\n",
       "      <th>60</th>\n",
       "      <td>1.10</td>\n",
       "      <td>0.089126</td>\n",
       "      <td>1114.078329</td>\n",
       "    </tr>\n",
       "  </tbody>\n",
       "</table>\n",
       "<p>61 rows × 3 columns</p>\n",
       "</div>"
      ],
      "text/plain": [
       "    price_ratio      prob  unit_margin\n",
       "0          0.50  0.959851 -2399.626604\n",
       "1          0.51  0.956166 -2151.374201\n",
       "2          0.52  0.952161 -1904.321476\n",
       "3          0.53  0.947809 -1658.665942\n",
       "4          0.54  0.943085 -1414.627954\n",
       "..          ...       ...          ...\n",
       "56         1.06  0.123707  1422.633666\n",
       "57         1.07  0.114111  1340.799349\n",
       "58         1.08  0.105169  1262.028161\n",
       "59         1.09  0.096851  1186.430810\n",
       "60         1.10  0.089126  1114.078329\n",
       "\n",
       "[61 rows x 3 columns]"
      ]
     },
     "execution_count": 34,
     "metadata": {},
     "output_type": "execute_result"
    }
   ],
   "source": [
    "xs = np.arange(0.5,1.1,0.01)\n",
    "probs = [1/(1+np.exp(xOpt[0]+(xOpt[1]*x))) for x in xs]\n",
    "margin_per_unit = [ ((x*MSRP)-Unit_Cost)*prob for x, prob in zip(xs,probs)]\n",
    "\n",
    "df = pd.DataFrame([xs,probs,margin_per_unit]).T\n",
    "df.columns = ['price_ratio','prob','unit_margin']\n",
    "df"
   ]
  },
  {
   "cell_type": "code",
   "execution_count": 35,
   "metadata": {
    "ExecuteTime": {
     "end_time": "2021-08-23T01:53:06.960720Z",
     "start_time": "2021-08-23T01:53:06.948717Z"
    }
   },
   "outputs": [
    {
     "name": "stdout",
     "output_type": "stream",
     "text": [
      "optimial_price_ratio: 0.8300000000000003\n",
      "actual_price: 20750.000000000007\n",
      "probability: 0.5374259776756151\n",
      "margin: 3090.1993716347906\n"
     ]
    }
   ],
   "source": [
    "optimial_price_ratio = df.loc[df['unit_margin']==df['unit_margin'].max()]['price_ratio'].values[0]\n",
    "actual_price = optimial_price_ratio*MSRP\n",
    "probability = 1/(1+np.exp(xOpt[0]+(xOpt[1]*optimial_price_ratio)))\n",
    "margin = (actual_price-Unit_Cost)*probability\n",
    "\n",
    "print('optimial_price_ratio:',optimial_price_ratio)\n",
    "print('actual_price:',actual_price)\n",
    "print('probability:',probability)\n",
    "print('margin:',margin)\n"
   ]
  },
  {
   "cell_type": "code",
   "execution_count": 36,
   "metadata": {
    "ExecuteTime": {
     "end_time": "2021-08-23T01:53:08.117269Z",
     "start_time": "2021-08-23T01:53:08.031282Z"
    }
   },
   "outputs": [
    {
     "data": {
      "text/plain": [
       "[<matplotlib.lines.Line2D at 0x7ff6cf950b80>]"
      ]
     },
     "execution_count": 36,
     "metadata": {},
     "output_type": "execute_result"
    },
    {
     "data": {
      "image/png": "[encoded data removed]",
      "text/plain": [
       "<Figure size 432x288 with 1 Axes>"
      ]
     },
     "metadata": {
      "needs_background": "light"
     },
     "output_type": "display_data"
    }
   ],
   "source": [
    "plt.plot(xs,probs)"
   ]
  },
  {
   "cell_type": "code",
   "execution_count": 37,
   "metadata": {
    "ExecuteTime": {
     "end_time": "2021-08-23T01:53:08.526856Z",
     "start_time": "2021-08-23T01:53:08.426926Z"
    }
   },
   "outputs": [
    {
     "data": {
      "text/plain": [
       "[<matplotlib.lines.Line2D at 0x7ff6cfd0dd00>]"
      ]
     },
     "execution_count": 37,
     "metadata": {},
     "output_type": "execute_result"
    },
    {
     "data": {
      "image/png": "[encoded data removed]",
      "text/plain": [
       "<Figure size 432x288 with 1 Axes>"
      ]
     },
     "metadata": {
      "needs_background": "light"
     },
     "output_type": "display_data"
    }
   ],
   "source": [
    "plt.plot(xs,margin_per_unit)"
   ]
  },
  {
   "cell_type": "markdown",
   "metadata": {},
   "source": [
    "# Segmented Model"
   ]
  },
  {
   "cell_type": "code",
   "execution_count": 38,
   "metadata": {
    "ExecuteTime": {
     "end_time": "2021-08-23T01:53:18.468673Z",
     "start_time": "2021-08-23T01:53:18.446978Z"
    }
   },
   "outputs": [],
   "source": [
    "segmented_model = pd.read_csv('segmented_model.csv')"
   ]
  },
  {
   "cell_type": "code",
   "execution_count": 41,
   "metadata": {
    "ExecuteTime": {
     "end_time": "2021-08-23T01:54:41.230698Z",
     "start_time": "2021-08-23T01:54:41.176288Z"
    }
   },
   "outputs": [],
   "source": [
    "for col in segmented_model.columns:\n",
    "    \n",
    "    segmented_model[col] = segmented_model[col].apply(lambda x: ''.join([n for n in str(x) if n.isdigit()]) )\n",
    "    segmented_model[col] = segmented_model[col].astype(float)"
   ]
  },
  {
   "cell_type": "code",
   "execution_count": 44,
   "metadata": {
    "ExecuteTime": {
     "end_time": "2021-08-23T01:57:38.354274Z",
     "start_time": "2021-08-23T01:57:38.347278Z"
    }
   },
   "outputs": [],
   "source": [
    "segmented_model['Discount_Pctg'] = (MSRP-segmented_model['Unit Price'])/MSRP\n",
    "segmented_model['Unit_Margin'] = segmented_model['Unit Price']-Unit_Cost\n",
    "segmented_model['Units_Sold'] = segmented_model['Win']*segmented_model['Units']\n",
    "segmented_model['Total_Margin'] = segmented_model['Units_Sold']*segmented_model['Unit_Margin']\n",
    "segmented_model['Price_Ratio'] = segmented_model['Unit Price']/MSRP"
   ]
  },
  {
   "cell_type": "code",
   "execution_count": 45,
   "metadata": {
    "ExecuteTime": {
     "end_time": "2021-08-23T01:57:38.539139Z",
     "start_time": "2021-08-23T01:57:38.519643Z"
    }
   },
   "outputs": [
    {
     "data": {
      "text/html": [
       "<div>\n",
       "<style scoped>\n",
       "    .dataframe tbody tr th:only-of-type {\n",
       "        vertical-align: middle;\n",
       "    }\n",
       "\n",
       "    .dataframe tbody tr th {\n",
       "        vertical-align: top;\n",
       "    }\n",
       "\n",
       "    .dataframe thead th {\n",
       "        text-align: right;\n",
       "    }\n",
       "</style>\n",
       "<table border=\"1\" class=\"dataframe\">\n",
       "  <thead>\n",
       "    <tr style=\"text-align: right;\">\n",
       "      <th></th>\n",
       "      <th>Bid No.</th>\n",
       "      <th>Government</th>\n",
       "      <th>Units</th>\n",
       "      <th>Unit Price</th>\n",
       "      <th>Total Price</th>\n",
       "      <th>Win</th>\n",
       "      <th>Discount_Pctg</th>\n",
       "      <th>Unit_Margin</th>\n",
       "      <th>Units_Sold</th>\n",
       "      <th>Total_Margin</th>\n",
       "      <th>Price_Ratio</th>\n",
       "    </tr>\n",
       "  </thead>\n",
       "  <tbody>\n",
       "    <tr>\n",
       "      <th>0</th>\n",
       "      <td>1.0</td>\n",
       "      <td>1.0</td>\n",
       "      <td>12.0</td>\n",
       "      <td>16551.0</td>\n",
       "      <td>198612.0</td>\n",
       "      <td>1.0</td>\n",
       "      <td>0.33796</td>\n",
       "      <td>1551.0</td>\n",
       "      <td>12.0</td>\n",
       "      <td>18612.0</td>\n",
       "      <td>0.66204</td>\n",
       "    </tr>\n",
       "    <tr>\n",
       "      <th>1</th>\n",
       "      <td>2.0</td>\n",
       "      <td>1.0</td>\n",
       "      <td>24.0</td>\n",
       "      <td>16272.0</td>\n",
       "      <td>390523.0</td>\n",
       "      <td>0.0</td>\n",
       "      <td>0.34912</td>\n",
       "      <td>1272.0</td>\n",
       "      <td>0.0</td>\n",
       "      <td>0.0</td>\n",
       "      <td>0.65088</td>\n",
       "    </tr>\n",
       "    <tr>\n",
       "      <th>2</th>\n",
       "      <td>3.0</td>\n",
       "      <td>1.0</td>\n",
       "      <td>16.0</td>\n",
       "      <td>21266.0</td>\n",
       "      <td>340261.0</td>\n",
       "      <td>1.0</td>\n",
       "      <td>0.14936</td>\n",
       "      <td>6266.0</td>\n",
       "      <td>16.0</td>\n",
       "      <td>100256.0</td>\n",
       "      <td>0.85064</td>\n",
       "    </tr>\n",
       "    <tr>\n",
       "      <th>3</th>\n",
       "      <td>4.0</td>\n",
       "      <td>1.0</td>\n",
       "      <td>21.0</td>\n",
       "      <td>18805.0</td>\n",
       "      <td>394910.0</td>\n",
       "      <td>0.0</td>\n",
       "      <td>0.24780</td>\n",
       "      <td>3805.0</td>\n",
       "      <td>0.0</td>\n",
       "      <td>0.0</td>\n",
       "      <td>0.75220</td>\n",
       "    </tr>\n",
       "    <tr>\n",
       "      <th>4</th>\n",
       "      <td>5.0</td>\n",
       "      <td>1.0</td>\n",
       "      <td>27.0</td>\n",
       "      <td>15884.0</td>\n",
       "      <td>428864.0</td>\n",
       "      <td>0.0</td>\n",
       "      <td>0.36464</td>\n",
       "      <td>884.0</td>\n",
       "      <td>0.0</td>\n",
       "      <td>0.0</td>\n",
       "      <td>0.63536</td>\n",
       "    </tr>\n",
       "    <tr>\n",
       "      <th>...</th>\n",
       "      <td>...</td>\n",
       "      <td>...</td>\n",
       "      <td>...</td>\n",
       "      <td>...</td>\n",
       "      <td>...</td>\n",
       "      <td>...</td>\n",
       "      <td>...</td>\n",
       "      <td>...</td>\n",
       "      <td>...</td>\n",
       "      <td>...</td>\n",
       "      <td>...</td>\n",
       "    </tr>\n",
       "    <tr>\n",
       "      <th>3995</th>\n",
       "      <td>3996.0</td>\n",
       "      <td>0.0</td>\n",
       "      <td>10.0</td>\n",
       "      <td>15316.0</td>\n",
       "      <td>153162.0</td>\n",
       "      <td>1.0</td>\n",
       "      <td>0.38736</td>\n",
       "      <td>316.0</td>\n",
       "      <td>10.0</td>\n",
       "      <td>3160.0</td>\n",
       "      <td>0.61264</td>\n",
       "    </tr>\n",
       "    <tr>\n",
       "      <th>3996</th>\n",
       "      <td>3997.0</td>\n",
       "      <td>0.0</td>\n",
       "      <td>17.0</td>\n",
       "      <td>21131.0</td>\n",
       "      <td>359232.0</td>\n",
       "      <td>1.0</td>\n",
       "      <td>0.15476</td>\n",
       "      <td>6131.0</td>\n",
       "      <td>17.0</td>\n",
       "      <td>104227.0</td>\n",
       "      <td>0.84524</td>\n",
       "    </tr>\n",
       "    <tr>\n",
       "      <th>3997</th>\n",
       "      <td>3998.0</td>\n",
       "      <td>0.0</td>\n",
       "      <td>25.0</td>\n",
       "      <td>18005.0</td>\n",
       "      <td>450125.0</td>\n",
       "      <td>1.0</td>\n",
       "      <td>0.27980</td>\n",
       "      <td>3005.0</td>\n",
       "      <td>25.0</td>\n",
       "      <td>75125.0</td>\n",
       "      <td>0.72020</td>\n",
       "    </tr>\n",
       "    <tr>\n",
       "      <th>3998</th>\n",
       "      <td>3999.0</td>\n",
       "      <td>0.0</td>\n",
       "      <td>14.0</td>\n",
       "      <td>20395.0</td>\n",
       "      <td>285533.0</td>\n",
       "      <td>1.0</td>\n",
       "      <td>0.18420</td>\n",
       "      <td>5395.0</td>\n",
       "      <td>14.0</td>\n",
       "      <td>75530.0</td>\n",
       "      <td>0.81580</td>\n",
       "    </tr>\n",
       "    <tr>\n",
       "      <th>3999</th>\n",
       "      <td>4000.0</td>\n",
       "      <td>0.0</td>\n",
       "      <td>29.0</td>\n",
       "      <td>21134.0</td>\n",
       "      <td>612882.0</td>\n",
       "      <td>1.0</td>\n",
       "      <td>0.15464</td>\n",
       "      <td>6134.0</td>\n",
       "      <td>29.0</td>\n",
       "      <td>177886.0</td>\n",
       "      <td>0.84536</td>\n",
       "    </tr>\n",
       "  </tbody>\n",
       "</table>\n",
       "<p>4000 rows × 11 columns</p>\n",
       "</div>"
      ],
      "text/plain": [
       "      Bid No.  Government  Units  Unit Price  Total Price  Win  Discount_Pctg  \\\n",
       "0         1.0         1.0   12.0     16551.0     198612.0  1.0        0.33796   \n",
       "1         2.0         1.0   24.0     16272.0     390523.0  0.0        0.34912   \n",
       "2         3.0         1.0   16.0     21266.0     340261.0  1.0        0.14936   \n",
       "3         4.0         1.0   21.0     18805.0     394910.0  0.0        0.24780   \n",
       "4         5.0         1.0   27.0     15884.0     428864.0  0.0        0.36464   \n",
       "...       ...         ...    ...         ...          ...  ...            ...   \n",
       "3995   3996.0         0.0   10.0     15316.0     153162.0  1.0        0.38736   \n",
       "3996   3997.0         0.0   17.0     21131.0     359232.0  1.0        0.15476   \n",
       "3997   3998.0         0.0   25.0     18005.0     450125.0  1.0        0.27980   \n",
       "3998   3999.0         0.0   14.0     20395.0     285533.0  1.0        0.18420   \n",
       "3999   4000.0         0.0   29.0     21134.0     612882.0  1.0        0.15464   \n",
       "\n",
       "      Unit_Margin  Units_Sold  Total_Margin  Price_Ratio  \n",
       "0          1551.0        12.0       18612.0      0.66204  \n",
       "1          1272.0         0.0           0.0      0.65088  \n",
       "2          6266.0        16.0      100256.0      0.85064  \n",
       "3          3805.0         0.0           0.0      0.75220  \n",
       "4           884.0         0.0           0.0      0.63536  \n",
       "...           ...         ...           ...          ...  \n",
       "3995        316.0        10.0        3160.0      0.61264  \n",
       "3996       6131.0        17.0      104227.0      0.84524  \n",
       "3997       3005.0        25.0       75125.0      0.72020  \n",
       "3998       5395.0        14.0       75530.0      0.81580  \n",
       "3999       6134.0        29.0      177886.0      0.84536  \n",
       "\n",
       "[4000 rows x 11 columns]"
      ]
     },
     "execution_count": 45,
     "metadata": {},
     "output_type": "execute_result"
    }
   ],
   "source": [
    "segmented_model"
   ]
  },
  {
   "cell_type": "code",
   "execution_count": 47,
   "metadata": {
    "ExecuteTime": {
     "end_time": "2021-08-23T02:00:56.208175Z",
     "start_time": "2021-08-23T02:00:56.159230Z"
    }
   },
   "outputs": [
    {
     "name": "stdout",
     "output_type": "stream",
     "text": [
      "Optimization terminated successfully.\n",
      "         Current function value: 905.602869\n",
      "         Iterations: 10\n",
      "         Function evaluations: 33\n",
      "         Gradient evaluations: 11\n",
      "[-14.21872527  20.00170174]\n",
      "-905.6028685876418\n",
      "-905.6028685876418\n",
      "      fun: 905.6028685876418\n",
      " hess_inv: array([[ 0.38696533, -0.53043213],\n",
      "       [-0.53043213,  0.73341882]])\n",
      "      jac: array([0., 0.])\n",
      "  message: 'Optimization terminated successfully.'\n",
      "     nfev: 33\n",
      "      nit: 10\n",
      "     njev: 11\n",
      "   status: 0\n",
      "  success: True\n",
      "        x: array([-14.21872527,  20.00170174])\n"
     ]
    }
   ],
   "source": [
    "def f(x):\n",
    "    \n",
    "    win_probability = 1/(1+np.exp(x[0]+segmented_model['Price_Ratio']*x[1]))    \n",
    "    likelihood = (segmented_model['Win']*win_probability)+(1-segmented_model['Win'])*(1-win_probability)\n",
    "    ln_likelihood = np.where(segmented_model['Government']==1,np.log(likelihood),0)\n",
    "    sse = ln_likelihood.sum()\n",
    "    return sse\n",
    "  \n",
    "\n",
    "    \n",
    "def objective(x):\n",
    "    # minus sign means the opposite of minimize\n",
    "    return -f(x)\n",
    "\n",
    "x0 = np.array([1,1])\n",
    "f(x0)\n",
    "\n",
    "sol = minimize(objective,x0,options={'disp':True})\n",
    "\n",
    "xOpt = sol.x\n",
    "print(xOpt)\n",
    "\n",
    "print(-sol.fun)\n",
    "\n",
    "print(f(xOpt))\n",
    "\n",
    "print(sol)"
   ]
  },
  {
   "cell_type": "code",
   "execution_count": 48,
   "metadata": {
    "ExecuteTime": {
     "end_time": "2021-08-23T02:01:48.425201Z",
     "start_time": "2021-08-23T02:01:48.350357Z"
    }
   },
   "outputs": [
    {
     "name": "stdout",
     "output_type": "stream",
     "text": [
      "Optimization terminated successfully.\n",
      "         Current function value: 129.838189\n",
      "         Iterations: 17\n",
      "         Function evaluations: 60\n",
      "         Gradient evaluations: 20\n",
      "[-25.97033298  26.64005316]\n",
      "-129.83818878296134\n",
      "-129.83818878296134\n",
      "      fun: 129.83818878296134\n",
      " hess_inv: array([[ 2.92933621, -3.3813401 ],\n",
      "       [-3.3813401 ,  3.94830705]])\n",
      "      jac: array([-7.62939453e-06, -7.62939453e-06])\n",
      "  message: 'Optimization terminated successfully.'\n",
      "     nfev: 60\n",
      "      nit: 17\n",
      "     njev: 20\n",
      "   status: 0\n",
      "  success: True\n",
      "        x: array([-25.97033298,  26.64005316])\n"
     ]
    }
   ],
   "source": [
    "def f(x):\n",
    "    \n",
    "    win_probability = 1/(1+np.exp(x[0]+segmented_model['Price_Ratio']*x[1]))    \n",
    "    likelihood = (segmented_model['Win']*win_probability)+(1-segmented_model['Win'])*(1-win_probability)\n",
    "    ln_likelihood = np.where(segmented_model['Government']!=1,np.log(likelihood),0)\n",
    "    sse = ln_likelihood.sum()\n",
    "    return sse\n",
    "  \n",
    "\n",
    "    \n",
    "def objective(x):\n",
    "    # minus sign means the opposite of minimize\n",
    "    return -f(x)\n",
    "\n",
    "x0 = np.array([1,1])\n",
    "f(x0)\n",
    "\n",
    "sol = minimize(objective,x0,options={'disp':True})\n",
    "\n",
    "xOpt = sol.x\n",
    "print(xOpt)\n",
    "\n",
    "print(-sol.fun)\n",
    "\n",
    "print(f(xOpt))\n",
    "\n",
    "print(sol)"
   ]
  },
  {
   "cell_type": "markdown",
   "metadata": {},
   "source": [
    "# Size Model"
   ]
  },
  {
   "cell_type": "code",
   "execution_count": 100,
   "metadata": {
    "ExecuteTime": {
     "end_time": "2021-08-23T07:07:25.220296Z",
     "start_time": "2021-08-23T07:07:25.213023Z"
    }
   },
   "outputs": [],
   "source": [
    "size_model = pd.read_csv('size_model.csv')"
   ]
  },
  {
   "cell_type": "code",
   "execution_count": 101,
   "metadata": {
    "ExecuteTime": {
     "end_time": "2021-08-23T07:07:25.428886Z",
     "start_time": "2021-08-23T07:07:25.389656Z"
    }
   },
   "outputs": [],
   "source": [
    "for col in size_model.columns:\n",
    "    \n",
    "    size_model[col] = size_model[col].apply(lambda x: ''.join([n for n in str(x) if n.isdigit()]) )\n",
    "    size_model[col] = size_model[col].astype(float)"
   ]
  },
  {
   "cell_type": "code",
   "execution_count": 102,
   "metadata": {
    "ExecuteTime": {
     "end_time": "2021-08-23T07:07:25.490602Z",
     "start_time": "2021-08-23T07:07:25.484254Z"
    }
   },
   "outputs": [],
   "source": [
    "size_model['Discount_Pctg'] = (MSRP-size_model['Unit_Price'])/MSRP\n",
    "size_model['Unit_Margin'] = size_model['Unit_Price']-Unit_Cost\n",
    "size_model['Units_Sold'] = size_model['Win']*size_model['Units']\n",
    "size_model['Total_Margin'] = size_model['Units_Sold']*size_model['Unit_Margin']\n",
    "size_model['Price_Ratio'] = size_model['Unit_Price']/MSRP"
   ]
  },
  {
   "cell_type": "code",
   "execution_count": 103,
   "metadata": {
    "ExecuteTime": {
     "end_time": "2021-08-23T07:07:25.641653Z",
     "start_time": "2021-08-23T07:07:25.624858Z"
    }
   },
   "outputs": [
    {
     "data": {
      "text/html": [
       "<div>\n",
       "<style scoped>\n",
       "    .dataframe tbody tr th:only-of-type {\n",
       "        vertical-align: middle;\n",
       "    }\n",
       "\n",
       "    .dataframe tbody tr th {\n",
       "        vertical-align: top;\n",
       "    }\n",
       "\n",
       "    .dataframe thead th {\n",
       "        text-align: right;\n",
       "    }\n",
       "</style>\n",
       "<table border=\"1\" class=\"dataframe\">\n",
       "  <thead>\n",
       "    <tr style=\"text-align: right;\">\n",
       "      <th></th>\n",
       "      <th>Bid_No</th>\n",
       "      <th>Government</th>\n",
       "      <th>Units</th>\n",
       "      <th>Unit_Price</th>\n",
       "      <th>Total_Price</th>\n",
       "      <th>Win</th>\n",
       "      <th>MSRP</th>\n",
       "      <th>Unit_Cost</th>\n",
       "      <th>Discount_Pctg</th>\n",
       "      <th>Unit_Margin</th>\n",
       "      <th>Units_Sold</th>\n",
       "      <th>Total_Margin</th>\n",
       "      <th>Price_Ratio</th>\n",
       "    </tr>\n",
       "  </thead>\n",
       "  <tbody>\n",
       "    <tr>\n",
       "      <th>0</th>\n",
       "      <td>1.0</td>\n",
       "      <td>1.0</td>\n",
       "      <td>12.0</td>\n",
       "      <td>16551.0</td>\n",
       "      <td>198612.0</td>\n",
       "      <td>1.0</td>\n",
       "      <td>25000.0</td>\n",
       "      <td>15000.0</td>\n",
       "      <td>0.33796</td>\n",
       "      <td>1551.0</td>\n",
       "      <td>12.0</td>\n",
       "      <td>18612.0</td>\n",
       "      <td>0.66204</td>\n",
       "    </tr>\n",
       "    <tr>\n",
       "      <th>1</th>\n",
       "      <td>2.0</td>\n",
       "      <td>1.0</td>\n",
       "      <td>24.0</td>\n",
       "      <td>16272.0</td>\n",
       "      <td>390523.0</td>\n",
       "      <td>0.0</td>\n",
       "      <td>25000.0</td>\n",
       "      <td>15000.0</td>\n",
       "      <td>0.34912</td>\n",
       "      <td>1272.0</td>\n",
       "      <td>0.0</td>\n",
       "      <td>0.0</td>\n",
       "      <td>0.65088</td>\n",
       "    </tr>\n",
       "    <tr>\n",
       "      <th>2</th>\n",
       "      <td>3.0</td>\n",
       "      <td>1.0</td>\n",
       "      <td>16.0</td>\n",
       "      <td>21266.0</td>\n",
       "      <td>340261.0</td>\n",
       "      <td>1.0</td>\n",
       "      <td>25000.0</td>\n",
       "      <td>15000.0</td>\n",
       "      <td>0.14936</td>\n",
       "      <td>6266.0</td>\n",
       "      <td>16.0</td>\n",
       "      <td>100256.0</td>\n",
       "      <td>0.85064</td>\n",
       "    </tr>\n",
       "    <tr>\n",
       "      <th>3</th>\n",
       "      <td>4.0</td>\n",
       "      <td>1.0</td>\n",
       "      <td>21.0</td>\n",
       "      <td>18805.0</td>\n",
       "      <td>394910.0</td>\n",
       "      <td>0.0</td>\n",
       "      <td>25000.0</td>\n",
       "      <td>15000.0</td>\n",
       "      <td>0.24780</td>\n",
       "      <td>3805.0</td>\n",
       "      <td>0.0</td>\n",
       "      <td>0.0</td>\n",
       "      <td>0.75220</td>\n",
       "    </tr>\n",
       "    <tr>\n",
       "      <th>4</th>\n",
       "      <td>5.0</td>\n",
       "      <td>1.0</td>\n",
       "      <td>27.0</td>\n",
       "      <td>15884.0</td>\n",
       "      <td>428864.0</td>\n",
       "      <td>0.0</td>\n",
       "      <td>25000.0</td>\n",
       "      <td>15000.0</td>\n",
       "      <td>0.36464</td>\n",
       "      <td>884.0</td>\n",
       "      <td>0.0</td>\n",
       "      <td>0.0</td>\n",
       "      <td>0.63536</td>\n",
       "    </tr>\n",
       "    <tr>\n",
       "      <th>...</th>\n",
       "      <td>...</td>\n",
       "      <td>...</td>\n",
       "      <td>...</td>\n",
       "      <td>...</td>\n",
       "      <td>...</td>\n",
       "      <td>...</td>\n",
       "      <td>...</td>\n",
       "      <td>...</td>\n",
       "      <td>...</td>\n",
       "      <td>...</td>\n",
       "      <td>...</td>\n",
       "      <td>...</td>\n",
       "      <td>...</td>\n",
       "    </tr>\n",
       "    <tr>\n",
       "      <th>3995</th>\n",
       "      <td>3996.0</td>\n",
       "      <td>0.0</td>\n",
       "      <td>10.0</td>\n",
       "      <td>15316.0</td>\n",
       "      <td>153162.0</td>\n",
       "      <td>1.0</td>\n",
       "      <td>25000.0</td>\n",
       "      <td>15000.0</td>\n",
       "      <td>0.38736</td>\n",
       "      <td>316.0</td>\n",
       "      <td>10.0</td>\n",
       "      <td>3160.0</td>\n",
       "      <td>0.61264</td>\n",
       "    </tr>\n",
       "    <tr>\n",
       "      <th>3996</th>\n",
       "      <td>3997.0</td>\n",
       "      <td>0.0</td>\n",
       "      <td>17.0</td>\n",
       "      <td>21131.0</td>\n",
       "      <td>359232.0</td>\n",
       "      <td>1.0</td>\n",
       "      <td>25000.0</td>\n",
       "      <td>15000.0</td>\n",
       "      <td>0.15476</td>\n",
       "      <td>6131.0</td>\n",
       "      <td>17.0</td>\n",
       "      <td>104227.0</td>\n",
       "      <td>0.84524</td>\n",
       "    </tr>\n",
       "    <tr>\n",
       "      <th>3997</th>\n",
       "      <td>3998.0</td>\n",
       "      <td>0.0</td>\n",
       "      <td>25.0</td>\n",
       "      <td>18005.0</td>\n",
       "      <td>450125.0</td>\n",
       "      <td>1.0</td>\n",
       "      <td>25000.0</td>\n",
       "      <td>15000.0</td>\n",
       "      <td>0.27980</td>\n",
       "      <td>3005.0</td>\n",
       "      <td>25.0</td>\n",
       "      <td>75125.0</td>\n",
       "      <td>0.72020</td>\n",
       "    </tr>\n",
       "    <tr>\n",
       "      <th>3998</th>\n",
       "      <td>3999.0</td>\n",
       "      <td>0.0</td>\n",
       "      <td>14.0</td>\n",
       "      <td>20395.0</td>\n",
       "      <td>285533.0</td>\n",
       "      <td>1.0</td>\n",
       "      <td>25000.0</td>\n",
       "      <td>15000.0</td>\n",
       "      <td>0.18420</td>\n",
       "      <td>5395.0</td>\n",
       "      <td>14.0</td>\n",
       "      <td>75530.0</td>\n",
       "      <td>0.81580</td>\n",
       "    </tr>\n",
       "    <tr>\n",
       "      <th>3999</th>\n",
       "      <td>4000.0</td>\n",
       "      <td>0.0</td>\n",
       "      <td>29.0</td>\n",
       "      <td>21134.0</td>\n",
       "      <td>612882.0</td>\n",
       "      <td>1.0</td>\n",
       "      <td>25000.0</td>\n",
       "      <td>15000.0</td>\n",
       "      <td>0.15464</td>\n",
       "      <td>6134.0</td>\n",
       "      <td>29.0</td>\n",
       "      <td>177886.0</td>\n",
       "      <td>0.84536</td>\n",
       "    </tr>\n",
       "  </tbody>\n",
       "</table>\n",
       "<p>4000 rows × 13 columns</p>\n",
       "</div>"
      ],
      "text/plain": [
       "      Bid_No  Government  Units  Unit_Price  Total_Price  Win     MSRP  \\\n",
       "0        1.0         1.0   12.0     16551.0     198612.0  1.0  25000.0   \n",
       "1        2.0         1.0   24.0     16272.0     390523.0  0.0  25000.0   \n",
       "2        3.0         1.0   16.0     21266.0     340261.0  1.0  25000.0   \n",
       "3        4.0         1.0   21.0     18805.0     394910.0  0.0  25000.0   \n",
       "4        5.0         1.0   27.0     15884.0     428864.0  0.0  25000.0   \n",
       "...      ...         ...    ...         ...          ...  ...      ...   \n",
       "3995  3996.0         0.0   10.0     15316.0     153162.0  1.0  25000.0   \n",
       "3996  3997.0         0.0   17.0     21131.0     359232.0  1.0  25000.0   \n",
       "3997  3998.0         0.0   25.0     18005.0     450125.0  1.0  25000.0   \n",
       "3998  3999.0         0.0   14.0     20395.0     285533.0  1.0  25000.0   \n",
       "3999  4000.0         0.0   29.0     21134.0     612882.0  1.0  25000.0   \n",
       "\n",
       "      Unit_Cost  Discount_Pctg  Unit_Margin  Units_Sold  Total_Margin  \\\n",
       "0       15000.0        0.33796       1551.0        12.0       18612.0   \n",
       "1       15000.0        0.34912       1272.0         0.0           0.0   \n",
       "2       15000.0        0.14936       6266.0        16.0      100256.0   \n",
       "3       15000.0        0.24780       3805.0         0.0           0.0   \n",
       "4       15000.0        0.36464        884.0         0.0           0.0   \n",
       "...         ...            ...          ...         ...           ...   \n",
       "3995    15000.0        0.38736        316.0        10.0        3160.0   \n",
       "3996    15000.0        0.15476       6131.0        17.0      104227.0   \n",
       "3997    15000.0        0.27980       3005.0        25.0       75125.0   \n",
       "3998    15000.0        0.18420       5395.0        14.0       75530.0   \n",
       "3999    15000.0        0.15464       6134.0        29.0      177886.0   \n",
       "\n",
       "      Price_Ratio  \n",
       "0         0.66204  \n",
       "1         0.65088  \n",
       "2         0.85064  \n",
       "3         0.75220  \n",
       "4         0.63536  \n",
       "...           ...  \n",
       "3995      0.61264  \n",
       "3996      0.84524  \n",
       "3997      0.72020  \n",
       "3998      0.81580  \n",
       "3999      0.84536  \n",
       "\n",
       "[4000 rows x 13 columns]"
      ]
     },
     "execution_count": 103,
     "metadata": {},
     "output_type": "execute_result"
    }
   ],
   "source": [
    "size_model"
   ]
  },
  {
   "cell_type": "code",
   "execution_count": 104,
   "metadata": {
    "ExecuteTime": {
     "end_time": "2021-08-23T07:07:25.911528Z",
     "start_time": "2021-08-23T07:07:25.748488Z"
    }
   },
   "outputs": [
    {
     "name": "stdout",
     "output_type": "stream",
     "text": [
      "Warning: Desired error not necessarily achieved due to precision loss.\n",
      "         Current function value: 895.394398\n",
      "         Iterations: 17\n",
      "         Function evaluations: 116\n",
      "         Gradient evaluations: 29\n",
      "[-15.07250833  20.27781163   0.03336915]\n",
      "-895.3943980719724\n",
      "-895.3943980719724\n",
      "      fun: 895.3943980719724\n",
      " hess_inv: array([[ 1.96014073e-01, -1.96350338e-01, -2.42131379e-03],\n",
      "       [-1.96350338e-01,  1.98085973e-01,  2.37614445e-03],\n",
      "       [-2.42131379e-03,  2.37614445e-03,  3.79962948e-05]])\n",
      "      jac: array([ 0.00000000e+00,  0.00000000e+00, -7.62939453e-05])\n",
      "  message: 'Desired error not necessarily achieved due to precision loss.'\n",
      "     nfev: 116\n",
      "      nit: 17\n",
      "     njev: 29\n",
      "   status: 2\n",
      "  success: False\n",
      "        x: array([-15.07250833,  20.27781163,   0.03336915])\n"
     ]
    }
   ],
   "source": [
    "def f(x):\n",
    "    \n",
    "    win_probability = 1/(1+np.exp(x[0]+size_model['Price_Ratio']*x[1]+size_model['Units']*x[2]))    \n",
    "    likelihood = (size_model['Win']*win_probability)+(1-size_model['Win'])*(1-win_probability)\n",
    "    ln_likelihood = np.where(size_model['Government']==1,np.log(likelihood),0)\n",
    "    sse = ln_likelihood.sum()\n",
    "    return sse\n",
    "  \n",
    "\n",
    "    \n",
    "def objective(x):\n",
    "    # minus sign means the opposite of minimize\n",
    "    return -f(x)\n",
    "\n",
    "x0 = np.array([1,1,1])\n",
    "# f(x0)\n",
    "\n",
    "sol = minimize(objective,x0,options={'disp':True})\n",
    "\n",
    "xOpt = sol.x\n",
    "print(xOpt)\n",
    "\n",
    "print(-sol.fun)\n",
    "\n",
    "print(f(xOpt))\n",
    "\n",
    "print(sol)"
   ]
  },
  {
   "cell_type": "code",
   "execution_count": 105,
   "metadata": {
    "ExecuteTime": {
     "end_time": "2021-08-23T07:07:25.970329Z",
     "start_time": "2021-08-23T07:07:25.968218Z"
    }
   },
   "outputs": [],
   "source": [
    "gov = xOpt"
   ]
  },
  {
   "cell_type": "code",
   "execution_count": 106,
   "metadata": {
    "ExecuteTime": {
     "end_time": "2021-08-23T07:07:26.471615Z",
     "start_time": "2021-08-23T07:07:26.028031Z"
    },
    "scrolled": false
   },
   "outputs": [
    {
     "name": "stderr",
     "output_type": "stream",
     "text": [
      "/home/cst/anaconda3/lib/python3.8/site-packages/pandas/core/series.py:726: RuntimeWarning: divide by zero encountered in log\n",
      "  result = getattr(ufunc, method)(*inputs, **kwargs)\n",
      "/home/cst/anaconda3/lib/python3.8/site-packages/pandas/core/series.py:726: RuntimeWarning: divide by zero encountered in log\n",
      "  result = getattr(ufunc, method)(*inputs, **kwargs)\n",
      "/home/cst/anaconda3/lib/python3.8/site-packages/scipy/optimize/_numdiff.py:497: RuntimeWarning: invalid value encountered in subtract\n",
      "  df = fun(x) - f0\n",
      "/home/cst/anaconda3/lib/python3.8/site-packages/pandas/core/series.py:726: RuntimeWarning: divide by zero encountered in log\n",
      "  result = getattr(ufunc, method)(*inputs, **kwargs)\n",
      "/home/cst/anaconda3/lib/python3.8/site-packages/scipy/optimize/_numdiff.py:497: RuntimeWarning: invalid value encountered in subtract\n",
      "  df = fun(x) - f0\n",
      "/home/cst/anaconda3/lib/python3.8/site-packages/pandas/core/series.py:726: RuntimeWarning: divide by zero encountered in log\n",
      "  result = getattr(ufunc, method)(*inputs, **kwargs)\n",
      "/home/cst/anaconda3/lib/python3.8/site-packages/scipy/optimize/_numdiff.py:497: RuntimeWarning: invalid value encountered in subtract\n",
      "  df = fun(x) - f0\n",
      "/home/cst/anaconda3/lib/python3.8/site-packages/pandas/core/series.py:726: RuntimeWarning: divide by zero encountered in log\n",
      "  result = getattr(ufunc, method)(*inputs, **kwargs)\n",
      "/home/cst/anaconda3/lib/python3.8/site-packages/pandas/core/series.py:726: RuntimeWarning: divide by zero encountered in log\n",
      "  result = getattr(ufunc, method)(*inputs, **kwargs)\n",
      "/home/cst/anaconda3/lib/python3.8/site-packages/pandas/core/series.py:726: RuntimeWarning: divide by zero encountered in log\n",
      "  result = getattr(ufunc, method)(*inputs, **kwargs)\n",
      "/home/cst/anaconda3/lib/python3.8/site-packages/scipy/optimize/_numdiff.py:497: RuntimeWarning: invalid value encountered in subtract\n",
      "  df = fun(x) - f0\n",
      "/home/cst/anaconda3/lib/python3.8/site-packages/pandas/core/series.py:726: RuntimeWarning: divide by zero encountered in log\n",
      "  result = getattr(ufunc, method)(*inputs, **kwargs)\n",
      "/home/cst/anaconda3/lib/python3.8/site-packages/scipy/optimize/_numdiff.py:497: RuntimeWarning: invalid value encountered in subtract\n",
      "  df = fun(x) - f0\n",
      "/home/cst/anaconda3/lib/python3.8/site-packages/pandas/core/series.py:726: RuntimeWarning: divide by zero encountered in log\n",
      "  result = getattr(ufunc, method)(*inputs, **kwargs)\n",
      "/home/cst/anaconda3/lib/python3.8/site-packages/scipy/optimize/_numdiff.py:497: RuntimeWarning: invalid value encountered in subtract\n",
      "  df = fun(x) - f0\n",
      "/home/cst/anaconda3/lib/python3.8/site-packages/pandas/core/series.py:726: RuntimeWarning: divide by zero encountered in log\n",
      "  result = getattr(ufunc, method)(*inputs, **kwargs)\n",
      "/home/cst/anaconda3/lib/python3.8/site-packages/pandas/core/series.py:726: RuntimeWarning: divide by zero encountered in log\n",
      "  result = getattr(ufunc, method)(*inputs, **kwargs)\n",
      "/home/cst/anaconda3/lib/python3.8/site-packages/pandas/core/series.py:726: RuntimeWarning: divide by zero encountered in log\n",
      "  result = getattr(ufunc, method)(*inputs, **kwargs)\n",
      "/home/cst/anaconda3/lib/python3.8/site-packages/pandas/core/series.py:726: RuntimeWarning: divide by zero encountered in log\n",
      "  result = getattr(ufunc, method)(*inputs, **kwargs)\n",
      "/home/cst/anaconda3/lib/python3.8/site-packages/pandas/core/series.py:726: RuntimeWarning: divide by zero encountered in log\n",
      "  result = getattr(ufunc, method)(*inputs, **kwargs)\n",
      "/home/cst/anaconda3/lib/python3.8/site-packages/pandas/core/series.py:726: RuntimeWarning: divide by zero encountered in log\n",
      "  result = getattr(ufunc, method)(*inputs, **kwargs)\n",
      "/home/cst/anaconda3/lib/python3.8/site-packages/pandas/core/series.py:726: RuntimeWarning: divide by zero encountered in log\n",
      "  result = getattr(ufunc, method)(*inputs, **kwargs)\n",
      "/home/cst/anaconda3/lib/python3.8/site-packages/pandas/core/series.py:726: RuntimeWarning: divide by zero encountered in log\n",
      "  result = getattr(ufunc, method)(*inputs, **kwargs)\n",
      "/home/cst/anaconda3/lib/python3.8/site-packages/pandas/core/series.py:726: RuntimeWarning: divide by zero encountered in log\n",
      "  result = getattr(ufunc, method)(*inputs, **kwargs)\n",
      "/home/cst/anaconda3/lib/python3.8/site-packages/pandas/core/series.py:726: RuntimeWarning: divide by zero encountered in log\n",
      "  result = getattr(ufunc, method)(*inputs, **kwargs)\n",
      "/home/cst/anaconda3/lib/python3.8/site-packages/pandas/core/series.py:726: RuntimeWarning: divide by zero encountered in log\n",
      "  result = getattr(ufunc, method)(*inputs, **kwargs)\n",
      "/home/cst/anaconda3/lib/python3.8/site-packages/pandas/core/series.py:726: RuntimeWarning: divide by zero encountered in log\n",
      "  result = getattr(ufunc, method)(*inputs, **kwargs)\n",
      "/home/cst/anaconda3/lib/python3.8/site-packages/pandas/core/series.py:726: RuntimeWarning: divide by zero encountered in log\n",
      "  result = getattr(ufunc, method)(*inputs, **kwargs)\n",
      "/home/cst/anaconda3/lib/python3.8/site-packages/pandas/core/series.py:726: RuntimeWarning: divide by zero encountered in log\n",
      "  result = getattr(ufunc, method)(*inputs, **kwargs)\n",
      "/home/cst/anaconda3/lib/python3.8/site-packages/pandas/core/series.py:726: RuntimeWarning: divide by zero encountered in log\n",
      "  result = getattr(ufunc, method)(*inputs, **kwargs)\n",
      "/home/cst/anaconda3/lib/python3.8/site-packages/pandas/core/series.py:726: RuntimeWarning: divide by zero encountered in log\n",
      "  result = getattr(ufunc, method)(*inputs, **kwargs)\n",
      "/home/cst/anaconda3/lib/python3.8/site-packages/pandas/core/series.py:726: RuntimeWarning: divide by zero encountered in log\n",
      "  result = getattr(ufunc, method)(*inputs, **kwargs)\n",
      "/home/cst/anaconda3/lib/python3.8/site-packages/pandas/core/series.py:726: RuntimeWarning: divide by zero encountered in log\n",
      "  result = getattr(ufunc, method)(*inputs, **kwargs)\n",
      "/home/cst/anaconda3/lib/python3.8/site-packages/pandas/core/series.py:726: RuntimeWarning: divide by zero encountered in log\n",
      "  result = getattr(ufunc, method)(*inputs, **kwargs)\n",
      "/home/cst/anaconda3/lib/python3.8/site-packages/pandas/core/series.py:726: RuntimeWarning: divide by zero encountered in log\n",
      "  result = getattr(ufunc, method)(*inputs, **kwargs)\n"
     ]
    },
    {
     "name": "stdout",
     "output_type": "stream",
     "text": [
      "Warning: Desired error not necessarily achieved due to precision loss.\n",
      "         Current function value: 129.833428\n",
      "         Iterations: 25\n",
      "         Function evaluations: 329\n",
      "         Gradient evaluations: 78\n",
      "[-2.59037439e+01  2.66124225e+01 -2.28937536e-03]\n",
      "-129.83342759143216\n",
      "-129.83342759143216\n",
      "      fun: 129.83342759143216\n",
      " hess_inv: array([[ 4.74370102e+01, -5.40367507e+01, -5.32589700e-02],\n",
      "       [-5.40367507e+01,  6.18530666e+01,  4.89409999e-02],\n",
      "       [-5.32589700e-02,  4.89409999e-02,  5.88107189e-04]])\n",
      "      jac: array([9.53674316e-06, 7.62939453e-06, 2.13623047e-04])\n",
      "  message: 'Desired error not necessarily achieved due to precision loss.'\n",
      "     nfev: 329\n",
      "      nit: 25\n",
      "     njev: 78\n",
      "   status: 2\n",
      "  success: False\n",
      "        x: array([-2.59037439e+01,  2.66124225e+01, -2.28937536e-03])\n"
     ]
    }
   ],
   "source": [
    "def f(x):\n",
    "    \n",
    "    win_probability = 1/(1+np.exp(x[0]+size_model['Price_Ratio']*x[1]+size_model['Units']*x[2]))    \n",
    "    likelihood = (size_model['Win']*win_probability)+(1-size_model['Win'])*(1-win_probability)\n",
    "    ln_likelihood = np.where(size_model['Government']!=1,np.log(likelihood),0.0000001)\n",
    "    sse = ln_likelihood.sum()\n",
    "    return sse\n",
    "  \n",
    "\n",
    "    \n",
    "def objective(x):\n",
    "    # minus sign means the opposite of minimize\n",
    "    return -f(x)\n",
    "\n",
    "x0 = np.array([1,1,1])\n",
    "# f(x0)\n",
    "\n",
    "sol = minimize(objective,x0,options={'disp':True})\n",
    "\n",
    "xOpt = sol.x\n",
    "print(xOpt)\n",
    "\n",
    "print(-sol.fun)\n",
    "\n",
    "print(f(xOpt))\n",
    "\n",
    "print(sol)"
   ]
  },
  {
   "cell_type": "code",
   "execution_count": 107,
   "metadata": {
    "ExecuteTime": {
     "end_time": "2021-08-23T07:07:26.537459Z",
     "start_time": "2021-08-23T07:07:26.535468Z"
    }
   },
   "outputs": [],
   "source": [
    "corporate = xOpt"
   ]
  },
  {
   "cell_type": "code",
   "execution_count": 108,
   "metadata": {
    "ExecuteTime": {
     "end_time": "2021-08-23T07:07:26.610400Z",
     "start_time": "2021-08-23T07:07:26.607605Z"
    }
   },
   "outputs": [
    {
     "data": {
      "text/plain": [
       "array([-15.07250833,  20.27781163,   0.03336915])"
      ]
     },
     "execution_count": 108,
     "metadata": {},
     "output_type": "execute_result"
    }
   ],
   "source": [
    "gov"
   ]
  },
  {
   "cell_type": "code",
   "execution_count": 109,
   "metadata": {
    "ExecuteTime": {
     "end_time": "2021-08-23T07:07:26.667622Z",
     "start_time": "2021-08-23T07:07:26.664997Z"
    }
   },
   "outputs": [
    {
     "data": {
      "text/plain": [
       "array([-2.59037439e+01,  2.66124225e+01, -2.28937536e-03])"
      ]
     },
     "execution_count": 109,
     "metadata": {},
     "output_type": "execute_result"
    }
   ],
   "source": [
    "corporate"
   ]
  },
  {
   "cell_type": "code",
   "execution_count": 123,
   "metadata": {
    "ExecuteTime": {
     "end_time": "2021-08-23T07:19:15.485810Z",
     "start_time": "2021-08-23T07:19:15.480229Z"
    }
   },
   "outputs": [
    {
     "name": "stdout",
     "output_type": "stream",
     "text": [
      "[0.5  0.55 0.6  0.65 0.7  0.75 0.8  0.85 0.9  0.95 1.   1.05 1.1 ]\n",
      "[0.99, 0.98, 0.94, 0.85, 0.67, 0.42, 0.21, 0.09, 0.03, 0.01, 0.0, 0.0, 0.0]\n"
     ]
    },
    {
     "data": {
      "text/plain": [
       "[-2475.0,\n",
       " -1224.9999999999982,\n",
       " 1.709850039333105e-12,\n",
       " 1062.500000000003,\n",
       " 1675.0000000000025,\n",
       " 1575.000000000003,\n",
       " 1050.0000000000016,\n",
       " 562.5000000000007,\n",
       " 225.0000000000002,\n",
       " 87.50000000000011,\n",
       " 0.0,\n",
       " 0.0,\n",
       " 0.0]"
      ]
     },
     "execution_count": 123,
     "metadata": {},
     "output_type": "execute_result"
    }
   ],
   "source": [
    "msrp_ = 25000\n",
    "unit_cost_ = 15000\n",
    "xs = np.arange(0.5,1.1,0.05)\n",
    "print(xs)\n",
    "probs = [(1/(1+np.exp(gov[0]+(gov[1]*x)+(gov[2]*5)))).round(2) for x in xs]\n",
    "print(probs)\n",
    "# =((T11*$E$2)-$E$3)*U11\n",
    "margin_per_unit = [ ((x*msrp_)-unit_cost_)*prob for x, prob in zip(xs,probs)]\n",
    "margin_per_unit"
   ]
  },
  {
   "cell_type": "code",
   "execution_count": 2,
   "metadata": {
    "ExecuteTime": {
     "end_time": "2021-08-24T01:18:16.366887Z",
     "start_time": "2021-08-24T01:18:16.364006Z"
    }
   },
   "outputs": [
    {
     "data": {
      "text/plain": [
       "False"
      ]
     },
     "execution_count": 2,
     "metadata": {},
     "output_type": "execute_result"
    }
   ],
   "source": [
    "'a' not in ['a','b','c']"
   ]
  },
  {
   "cell_type": "code",
   "execution_count": null,
   "metadata": {},
   "outputs": [],
   "source": []
  }
 ],
 "metadata": {
  "kernelspec": {
   "display_name": "Python 3",
   "language": "python",
   "name": "python3"
  },
  "language_info": {
   "codemirror_mode": {
    "name": "ipython",
    "version": 3
   },
   "file_extension": ".py",
   "mimetype": "text/x-python",
   "name": "python",
   "nbconvert_exporter": "python",
   "pygments_lexer": "ipython3",
   "version": "3.8.3"
  },
  "toc": {
   "base_numbering": 1,
   "nav_menu": {},
   "number_sections": true,
   "sideBar": true,
   "skip_h1_title": false,
   "title_cell": "Table of Contents",
   "title_sidebar": "Contents",
   "toc_cell": false,
   "toc_position": {},
   "toc_section_display": true,
   "toc_window_display": true
  },
  "varInspector": {
   "cols": {
    "lenName": 16,
    "lenType": 16,
    "lenVar": 40
   },
   "kernels_config": {
    "python": {
     "delete_cmd_postfix": "",
     "delete_cmd_prefix": "del ",
     "library": "var_list.py",
     "varRefreshCmd": "print(var_dic_list())"
    },
    "r": {
     "delete_cmd_postfix": ") ",
     "delete_cmd_prefix": "rm(",
     "library": "var_list.r",
     "varRefreshCmd": "cat(var_dic_list()) "
    }
   },
   "types_to_exclude": [
    "module",
    "function",
    "builtin_function_or_method",
    "instance",
    "_Feature"
   ],
   "window_display": false
  }
 },
 "nbformat": 4,
 "nbformat_minor": 4
}
